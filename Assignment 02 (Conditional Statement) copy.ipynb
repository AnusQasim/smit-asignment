{
 "cells": [
  {
   "cell_type": "markdown",
   "metadata": {},
   "source": [
    "2. Write your small bio using variables and print it using print function"
   ]
  },
  {
   "cell_type": "code",
   "execution_count": 2,
   "metadata": {},
   "outputs": [
    {
     "name": "stdout",
     "output_type": "stream",
     "text": [
      "hi my name is anus\n",
      " i have complet intermiadiated\n",
      " i am learn cloud data enginnering\n"
     ]
    }
   ],
   "source": [
    "bio_data = \"hi my name is anus\"\n",
    "bio_edcation = \"i have complet intermiadiated\"\n",
    "bio_skills = \"i am learn cloud data enginnering\"\n",
    "print(f\"{bio_data}\\n {bio_edcation}\\n {bio_skills}\")\n"
   ]
  },
  {
   "cell_type": "markdown",
   "metadata": {},
   "source": [
    "3. Write a program in which use all the operators we can use in Python"
   ]
  },
  {
   "cell_type": "code",
   "execution_count": 25,
   "metadata": {},
   "outputs": [
    {
     "name": "stdout",
     "output_type": "stream",
     "text": [
      "True\n"
     ]
    }
   ],
   "source": [
    "#Comparison Operators\n",
    "\n",
    "a = 10\n",
    "b = 11\n",
    "\n",
    "result = a == b\n",
    "result1 = a !=b\n",
    "result2 = a >= b\n",
    "result3 = a <= b\n",
    "\n",
    "print(result3)"
   ]
  },
  {
   "cell_type": "code",
   "execution_count": 19,
   "metadata": {},
   "outputs": [
    {
     "name": "stdout",
     "output_type": "stream",
     "text": [
      "0\n",
      "15.0\n",
      "0\n",
      "15.0\n",
      "0\n",
      "13\n",
      "216000\n"
     ]
    }
   ],
   "source": [
    " #Assignment Operators\n",
    "\n",
    "x = 30\n",
    "y = 40\n",
    "\n",
    "y1 = 40\n",
    "y2 = 60\n",
    "\n",
    "x += 20\n",
    "y -= 10\n",
    "x *= 2\n",
    "y/= 2\n",
    "x %= 2\n",
    "y1 //= 3\n",
    "y2 **= 3\n",
    "\n",
    "print(x)\n",
    "print(y)\n",
    "print(x)\n",
    "print(y)\n",
    "print(x)\n",
    "print(y1)\n",
    "print(y2)"
   ]
  },
  {
   "cell_type": "code",
   "execution_count": 20,
   "metadata": {},
   "outputs": [
    {
     "name": "stdout",
     "output_type": "stream",
     "text": [
      "300\n",
      "100\n",
      "20000\n",
      "2.0\n",
      "0\n"
     ]
    }
   ],
   "source": [
    "#Arithmetic Operators\n",
    "num1 = 100\n",
    "num2 = 200\n",
    "print(num1+num2)\n",
    "print(num2-num1)\n",
    "print(num1*num2)\n",
    "print(num2/num1)\n",
    "print(num1//num2)\n"
   ]
  },
  {
   "cell_type": "markdown",
   "metadata": {},
   "source": [
    "4. Completes the following steps of small task:\n",
    "    - Mention Marks of English , Islamiat and Maths out of 100 in 3 different variables\n",
    "    - Mention Variable of Total Marks and assign 300 to it\n",
    "    - Calculate Percentage"
   ]
  },
  {
   "cell_type": "code",
   "execution_count": 2,
   "metadata": {},
   "outputs": [
    {
     "name": "stdout",
     "output_type": "stream",
     "text": [
      "83.33333333333334\n"
     ]
    }
   ],
   "source": [
    "english = 80\n",
    "Islamiat = 100\n",
    "maths = 70\n",
    "total_marks = english + Islamiat + maths\n",
    "percentage = (total_marks / 300) * 100\n",
    "print(percentage)\n"
   ]
  },
  {
   "cell_type": "markdown",
   "metadata": {},
   "source": [
    "# Part -2 Python Basics (Conditional Statements)"
   ]
  },
  {
   "cell_type": "markdown",
   "metadata": {},
   "source": [
    "1) A company decided to give bonus of 5% to employee if his/her year of service is more than 5 years.\n",
    "Ask user for their salary and year of service and print the net bonus amount."
   ]
  },
  {
   "cell_type": "code",
   "execution_count": 27,
   "metadata": {},
   "outputs": [
    {
     "name": "stdout",
     "output_type": "stream",
     "text": [
      "not increase\n"
     ]
    }
   ],
   "source": [
    "name = input(\"enter your name\")\n",
    "year = int(input(\"enter your year\"))\n",
    "salary = int(input(\"enter your salary\"))\n",
    "\n",
    "if year > 5:\n",
    "    result  = salary *5\n",
    "    print(f\"Name:{name}\\n Year:{year}\\n salary:{salary}\\n bonous:{result}\")\n",
    "else:\n",
    "    print(\"not increase\")\n",
    "    \n",
    "\n"
   ]
  },
  {
   "cell_type": "markdown",
   "metadata": {},
   "source": [
    "\n",
    "2) Write a program to check whether a person is eligible for voting or not. (accept age from user) if age is greater than 17 eligible otherwise not eligible"
   ]
  },
  {
   "cell_type": "code",
   "execution_count": 55,
   "metadata": {},
   "outputs": [
    {
     "name": "stdout",
     "output_type": "stream",
     "text": [
      "not eligilible\n"
     ]
    }
   ],
   "source": [
    "age = int(input(\"enter your age\"))\n",
    "if age > 17:\n",
    "    print(f\"eligilible for votiong:{age}\")\n",
    "else:\n",
    "    print(\"not eligilible\")"
   ]
  },
  {
   "cell_type": "markdown",
   "metadata": {},
   "source": [
    "\n",
    "3) Write a program to check whether a number entered by user is even or odd."
   ]
  },
  {
   "cell_type": "code",
   "execution_count": 60,
   "metadata": {},
   "outputs": [
    {
     "name": "stdout",
     "output_type": "stream",
     "text": [
      "is even number:630\n"
     ]
    }
   ],
   "source": [
    "num = int(input('enter a number'))\n",
    "if num % 2 == 0:\n",
    "    print(f\"is even number:{num}\")\n",
    "else:\n",
    "        print(f\"oddNumber:{num}\")"
   ]
  },
  {
   "cell_type": "markdown",
   "metadata": {},
   "source": [
    "4) Write a program to check whether a number is divisible by 7 or not.\n",
    "Show Answer"
   ]
  },
  {
   "cell_type": "code",
   "execution_count": 64,
   "metadata": {},
   "outputs": [
    {
     "name": "stdout",
     "output_type": "stream",
     "text": [
      "num is not divisible by 7\n"
     ]
    }
   ],
   "source": [
    "num = int(input(\"enter a number\"))\n",
    "if num % 7 == 0:\n",
    "    print(f\"number is divisible by {num}\")\n",
    "else:\n",
    "    print(f\"num is not divisible by 7\")\n"
   ]
  },
  {
   "cell_type": "markdown",
   "metadata": {},
   "source": [
    "5) Write a program to display \n",
    "\"Hello\" if a number entered by user is a multiple of five , otherwise print \"Bye\"."
   ]
  },
  {
   "cell_type": "code",
   "execution_count": null,
   "metadata": {},
   "outputs": [
    {
     "name": "stdout",
     "output_type": "stream",
     "text": [
      "hello\n"
     ]
    }
   ],
   "source": [
    "num = int(input(\"enter a number\"))\n",
    "if num % 5 == 0:\n",
    "    print(\"hello\")\n",
    "else:\n",
    "    print(\"bye\")"
   ]
  },
  {
   "cell_type": "markdown",
   "metadata": {},
   "source": [
    "7) Write a program to display the last digit of a number.\n"
   ]
  },
  {
   "cell_type": "code",
   "execution_count": 4,
   "metadata": {},
   "outputs": [
    {
     "name": "stdout",
     "output_type": "stream",
     "text": [
      "The last digit of 200 is 0.\n"
     ]
    }
   ],
   "source": [
    "num = int(input(\"enter a number\"))\n",
    "last_digit = num % 10\n",
    "print(f\"The last digit of {num} is {last_digit}.\")"
   ]
  },
  {
   "cell_type": "markdown",
   "metadata": {},
   "source": [
    "9) Take values of length and breadth of a rectangle from user and print if it is square or rectangle."
   ]
  },
  {
   "cell_type": "code",
   "execution_count": 59,
   "metadata": {},
   "outputs": [
    {
     "name": "stdout",
     "output_type": "stream",
     "text": [
      "the shape is rectangle\n"
     ]
    }
   ],
   "source": [
    "length = float(input(\"enter a len\"))\n",
    "breadth = float(input(\"enter a breadth\"))\n",
    "\n",
    "if length == breadth:\n",
    "    print(\"the shape is a square\")\n",
    "else:\n",
    "    print(\"the shape is rectangle\")"
   ]
  },
  {
   "cell_type": "markdown",
   "metadata": {},
   "source": [
    "10) Take two int values from user and print greatest among them."
   ]
  },
  {
   "cell_type": "code",
   "execution_count": 30,
   "metadata": {},
   "outputs": [
    {
     "name": "stdout",
     "output_type": "stream",
     "text": [
      "largest number 90\n"
     ]
    }
   ],
   "source": [
    "user1 = int(input(\"enetr a number\"))\n",
    "user2 = int(input(\"enetr a number\"))\n",
    "if user1 > user2:\n",
    "    print(\"largest number\", user1)\n",
    "elif user2 > user1:\n",
    "    print(\"largest number\",user2)\n",
    "else:\n",
    "    print(\"both no are equals\")"
   ]
  },
  {
   "cell_type": "markdown",
   "metadata": {},
   "source": [
    "11) A shop will give discount of 10% if the cost of purchased quantity is more than 1000.\n",
    "Ask user for quantity\n",
    "Suppose, one unit will cost 100.\n",
    "Judge and print total cost for user."
   ]
  },
  {
   "cell_type": "code",
   "execution_count": 49,
   "metadata": {},
   "outputs": [
    {
     "name": "stdout",
     "output_type": "stream",
     "text": [
      "10% Bonous applied\n",
      "total_cost: 90000\n"
     ]
    }
   ],
   "source": [
    "# price = int(input(\"enter a price\"))\n",
    "# quantity = int(input(\"enter a quantity\"))\n",
    "\n",
    "# if price > 1000 and quantity > 1000:\n",
    "#     result = price * 10 // 100\n",
    "#     print(f\"price:{price}\\nresult:{result}\")\n",
    "#     print(f\"10% Discount is:{price - result}\")\n",
    "\n",
    "quantity1 = int(input('enter a quantity'))\n",
    "price = 100\n",
    "\n",
    "total_cost = quantity1 * price\n",
    "\n",
    "if total_cost > 1000:\n",
    "    discount = total_cost * 10 // 100\n",
    "    total_cost = total_cost - discount\n",
    "    print(\"10% Bonous applied\")\n",
    "else:\n",
    "    print(\"No discount\")\n",
    "\n",
    "print(\"total_cost:\",total_cost)\n",
    "\n"
   ]
  },
  {
   "cell_type": "markdown",
   "metadata": {},
   "source": [
    "12) A school has following rules for grading system:\n",
    "\n",
    "a. Below 25 - F\n",
    "\n",
    "b. 25 to 45 - E\n",
    "\n",
    "c. 45 to 50 - D\n",
    "\n",
    "d. 50 to 60 - C\n",
    "\n",
    "e. 60 to 80 - B\n",
    "\n",
    "f. Above 80 - A\n",
    "\n",
    "Ask user to enter marks and print the corresponding grade."
   ]
  },
  {
   "cell_type": "code",
   "execution_count": null,
   "metadata": {},
   "outputs": [
    {
     "name": "stdout",
     "output_type": "stream",
     "text": [
      "Grade: E\n"
     ]
    }
   ],
   "source": [
    "marks = int(input('enter your marks'))\n",
    "\n",
    "if marks < 25:\n",
    "        print(\"Grade: F\")\n",
    "elif marks < 45:\n",
    "        print(\"Grade: E\")\n",
    "elif marks < 50:\n",
    "        print(\"Grade: D\")\n",
    "elif marks < 60:\n",
    "        print(\"Grade: C\")\n",
    "elif marks < 80:\n",
    "        print(\"Grade: B\")\n",
    "else:\n",
    "        print(\"Grade: A\")\n",
    "\n"
   ]
  },
  {
   "cell_type": "markdown",
   "metadata": {},
   "source": [
    "14)A student will not be allowed to sit in exam if his/her attendence is less than 75%.\n",
    "\n",
    "Take following input from user\n",
    "\n",
    "- Number of classes held\n",
    "\n",
    "- Number of classes attended.\n",
    "\n",
    "And print\n",
    "\n",
    "- percentage of class attended\n",
    "\n",
    "- Is student is allowed to sit in exam or not.\n"
   ]
  },
  {
   "cell_type": "code",
   "execution_count": 70,
   "metadata": {},
   "outputs": [
    {
     "name": "stdout",
     "output_type": "stream",
     "text": [
      "the student is not allowed to sit in exam due to low attendence\n"
     ]
    }
   ],
   "source": [
    "class_held = int(input('enter a class no'))\n",
    "class_attendence = int(input('enter a class attendence'))\n",
    "total = (class_attendence / class_held) * 100\n",
    "\n",
    "if total < 75:\n",
    "    print(\"the student is not allowed to sit in exam due to low attendence\")\n",
    "else:\n",
    "    print(\"the student is allowed to sit in exam\")\n",
    "\n"
   ]
  },
  {
   "cell_type": "markdown",
   "metadata": {},
   "source": [
    "15) Modify the above question to allow student to sit if he/she has medical cause. Ask user if he/she has medical cause or not ( 'Y' or 'N' ) and print accordingly."
   ]
  },
  {
   "cell_type": "code",
   "execution_count": null,
   "metadata": {},
   "outputs": [
    {
     "name": "stdout",
     "output_type": "stream",
     "text": [
      "Y\n"
     ]
    }
   ],
   "source": [
    "medical_cause = input(\"enter a medicalCase\")\n",
    "if medical_cause == \"y\":\n",
    "    print(\"Allowed\")\n",
    "else:\n",
    "    print(\"notAllowed\")"
   ]
  },
  {
   "cell_type": "markdown",
   "metadata": {},
   "source": [
    "16) Write a program to check if a year is leap year or not.\n",
    "\n",
    "If a year is divisible by 4 then it is leap year but if the year is century year like 2000, 1900, 2100 then it must be divisible by 400."
   ]
  },
  {
   "cell_type": "code",
   "execution_count": 5,
   "metadata": {},
   "outputs": [
    {
     "name": "stdout",
     "output_type": "stream",
     "text": [
      "201010 id not a leap year\n"
     ]
    }
   ],
   "source": [
    "year = int(input(\"enetr a yera \"))\n",
    "if (year % 4 == 0 and year % 100 !=0) or (year % 400 == 0):\n",
    "    print(f\"{year} is a leap year.\")\n",
    "else:\n",
    "    print(f\"{year} id not a leap year\")"
   ]
  },
  {
   "cell_type": "markdown",
   "metadata": {},
   "source": [
    "17) Ask user to enter age, gender ( M or F ), marital status ( Y or N ) and then using following rules print their place of service.\n",
    "\n",
    "if employee is female, then she will work only in urban areas.\n",
    "\n",
    "if employee is a male and age is in between 20 to 40 then he may work in anywhere\n",
    "\n",
    "if employee is male and age is in between 40 t0 60 then he will work in urban areas only.\n",
    "\n",
    "And any other input of age should print \"ERROR\""
   ]
  },
  {
   "cell_type": "code",
   "execution_count": 10,
   "metadata": {},
   "outputs": [
    {
     "name": "stdout",
     "output_type": "stream",
     "text": [
      "he will work in urban areas\n"
     ]
    }
   ],
   "source": [
    "age = int(input(\"enter age\"))\n",
    "gender = str(input(\"enter a gender\"))\n",
    "\n",
    "if gender.upper() == \"F\":\n",
    "    print(\"sh will work only in urban areas\")\n",
    "elif gender.upper() == \"M\" and 20 <= age <= 40:\n",
    "    print(\"he may work anywhere\")\n",
    "elif gender.upper() == \"M\" and 40<= age <= 60:\n",
    "    print(\"he will work in urban areas\" )\n",
    "else:\n",
    "    print(\"error\")\n"
   ]
  },
  {
   "cell_type": "markdown",
   "metadata": {},
   "source": [
    "6) Write a program to calculate the electricity bill (accept number of unit from user) according to the following criteria :\n",
    "     Unit                                                     Price  \n",
    "uptp 100 units                                             no charge\n",
    "Next 200 units                                              Rs 5 per unit\n",
    "After 200 units                                             Rs 10 per unit\n",
    "(For example if input unit is 350 than total bill amount is Rs.3500\n",
    "(For example if input unit is 97 than total bill amount is Rs.0\n",
    "(For example if input unit is 150 than total bill amount is Rs.750"
   ]
  },
  {
   "cell_type": "markdown",
   "metadata": {},
   "source": [
    "13) Take input of age of 3 people by user and determine oldest and youngest among them."
   ]
  },
  {
   "cell_type": "code",
   "execution_count": 30,
   "metadata": {},
   "outputs": [],
   "source": [
    "units = int(input('enetr units '))\n",
    "# price = int(input('enter aprice'))\n",
    "price = 10\n",
    "\n",
    "# total = units * price\n",
    "\n",
    "if units <= 100:\n",
    "    print(\"no charge\")\n",
    "elif units <= 300:\n",
    "    increase = price + 5  \n",
    "    print(f\"total bill amount is {increase}\")\n",
    "elif units  == \"97\":\n",
    "    print(\"the total amount is 0\")\n",
    "elif units == 150:\n",
    "    print('total amount is 750')\n"
   ]
  },
  {
   "cell_type": "code",
   "execution_count": null,
   "metadata": {},
   "outputs": [],
   "source": [
    "age1 = int(input(\"Enter the age of the first person: \"))\n",
    "age2 = int(input(\"Enter the age of the second person: \"))\n",
    "age3 = int(input(\"Enter the age of the third person: \"))\n",
    "\n",
    "oldest = max(age1, age2, age3)\n",
    "youngest = min(age1, age2, age3)\n",
    "\n",
    "print(\"The oldest person is\", oldest, \"years old.\")\n",
    "print(\"The youngest person is\", youngest, \"years old.\")\n"
   ]
  }
 ],
 "metadata": {
  "kernelspec": {
   "display_name": "base",
   "language": "python",
   "name": "python3"
  },
  "language_info": {
   "codemirror_mode": {
    "name": "ipython",
    "version": 3
   },
   "file_extension": ".py",
   "mimetype": "text/x-python",
   "name": "python",
   "nbconvert_exporter": "python",
   "pygments_lexer": "ipython3",
   "version": "3.13.5"
  }
 },
 "nbformat": 4,
 "nbformat_minor": 2
}
