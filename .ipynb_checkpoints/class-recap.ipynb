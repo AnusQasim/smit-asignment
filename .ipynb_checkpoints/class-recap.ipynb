{
 "cells": [
  {
   "cell_type": "markdown",
   "id": "53b82a4b",
   "metadata": {},
   "source": [
    "## Classes\n",
    "\n",
    "- class initilazie with proper name\n",
    "- constructer  {\n",
    "    attribute\n",
    "}\n",
    "- methods\n",
    "\n",
    "## oop object oriented programming \n",
    "\n",
    "- inherentance \n",
    "- abstraction\n",
    "- polymorphism \n",
    "- encapsulation\n",
    "\n"
   ]
  },
  {
   "cell_type": "code",
   "execution_count": 1,
   "id": "075bd700",
   "metadata": {},
   "outputs": [],
   "source": [
    "class parents():\n",
    "    def __init__(self,eyeColor,hairColor):  # Contsucter \n",
    "        self.eyeColor = eyeColor  # attributes\n",
    "        self.hairColor = hairColor\n",
    "    \n",
    "    def can_paint():  # methods\n",
    "        print(f\"have abilitiy draw paint arts \")\n",
    "\n",
    "        "
   ]
  },
  {
   "cell_type": "code",
   "execution_count": 2,
   "id": "6df2e031",
   "metadata": {},
   "outputs": [],
   "source": [
    "par_obj = parents(\"borwn\",'brown')"
   ]
  },
  {
   "cell_type": "code",
   "execution_count": 6,
   "id": "af2fffac",
   "metadata": {},
   "outputs": [
    {
     "data": {
      "text/plain": [
       "'brown'"
      ]
     },
     "execution_count": 6,
     "metadata": {},
     "output_type": "execute_result"
    }
   ],
   "source": [
    "par_obj.hairColor\n",
    "par_obj.hairColor\n",
    "# par_obj.can_paint()"
   ]
  },
  {
   "cell_type": "code",
   "execution_count": null,
   "id": "16ced284",
   "metadata": {},
   "outputs": [],
   "source": [
    "class father():\n",
    "    def __init__(self,eyeColor,hairColor):\n",
    "        self.eyeColor = eyeColor\n",
    "        self.hairColor = hairColor\n",
    "    \n",
    "    def can_paint():\n",
    "        print(f\"have ability draw paint art\")\n",
    "\n",
    "    \n",
    "class mother():\n",
    "    def __init__(self,hairColor,height):\n",
    "        self.hairColor = hairColor\n",
    "        self.height = height\n",
    "\n",
    "\n",
    "        \n",
    "    \n",
    "class child (father,mother):\n",
    "    def __init__(self,eyeColor,height,hairColor,skinColor):\n",
    "        father.__init__(self,eyeColor,hairColor) # father\n",
    "        mother.__init__(self,hairColor,height)\n",
    "        # self.eyeColor = eyeColor\n",
    "        # self.hairColor= hairColor\n",
    "        # self.height = height\n",
    "        self.skinColor = skinColor\n",
    "    \n",
    "    def can_drive():\n",
    "        print(f'have ability to drive')\n",
    "         \n",
    "    \n",
    "        "
   ]
  },
  {
   "cell_type": "code",
   "execution_count": 47,
   "id": "87008172",
   "metadata": {},
   "outputs": [
    {
     "name": "stdout",
     "output_type": "stream",
     "text": [
      "have ability draw paint art\n"
     ]
    }
   ],
   "source": [
    "f = father(\"black\",\"brown\")\n",
    "father.can_paint()"
   ]
  },
  {
   "cell_type": "code",
   "execution_count": 46,
   "id": "d8c9a97e",
   "metadata": {},
   "outputs": [
    {
     "name": "stdout",
     "output_type": "stream",
     "text": [
      "red\n",
      "black\n",
      "33\n",
      "white\n",
      "have ability to drive\n",
      "None\n"
     ]
    }
   ],
   "source": [
    "c = child(\"red\",33,'black','white')\n",
    "print(c .eyeColor)\n",
    "print(c.hairColor)\n",
    "print(c.height)\n",
    "print(c.skinColor)\n",
    "\n",
    "print(child.can_drive())"
   ]
  },
  {
   "cell_type": "code",
   "execution_count": 54,
   "id": "25819e3c",
   "metadata": {},
   "outputs": [
    {
     "data": {
      "text/plain": [
       "'black'"
      ]
     },
     "execution_count": 54,
     "metadata": {},
     "output_type": "execute_result"
    }
   ],
   "source": [
    "m = mother(\"black\",4.4)\n",
    "m.hairColor"
   ]
  },
  {
   "cell_type": "code",
   "execution_count": 2,
   "id": "25721e81",
   "metadata": {},
   "outputs": [],
   "source": [
    "from typing import overload\n",
    "\n",
    "class Adder():\n",
    "\n",
    "    @overload\n",
    "    def add(self , x:int,y:int):\n",
    "        ... \n",
    "    @overload\n",
    "    def add(self , x:float,y:float):\n",
    "        ... \n",
    "    @overload\n",
    "    def add(self , x:str,y:str):\n",
    "        ... \n",
    "\n",
    "\n",
    "    def add(self,x,y):\n",
    "        if isinstance(x,int) and isinstance(y,int):\n",
    "            return x+y\n",
    "        elif isinstance(x,float) and isinstance(y,float):\n",
    "            return x+y\n",
    "        elif isinstance(x, str) and isinstance(y,str):\n",
    "            return x+y\n",
    "\n",
    "        "
   ]
  },
  {
   "cell_type": "code",
   "execution_count": 4,
   "id": "a4fa4ca9",
   "metadata": {},
   "outputs": [
    {
     "name": "stdout",
     "output_type": "stream",
     "text": [
      "5\n",
      "7.0\n",
      "Hello, World\n"
     ]
    }
   ],
   "source": [
    "adder = Adder()\n",
    "\n",
    "print(adder.add(2,3))        # int\n",
    "print(adder.add(2.5, 4.5))    # float\n",
    "print(adder.add(\"Hello, \", \"World\"))  # str\n"
   ]
  }
 ],
 "metadata": {
  "kernelspec": {
   "display_name": "base",
   "language": "python",
   "name": "python3"
  },
  "language_info": {
   "codemirror_mode": {
    "name": "ipython",
    "version": 3
   },
   "file_extension": ".py",
   "mimetype": "text/x-python",
   "name": "python",
   "nbconvert_exporter": "python",
   "pygments_lexer": "ipython3",
   "version": "3.13.5"
  }
 },
 "nbformat": 4,
 "nbformat_minor": 5
}
