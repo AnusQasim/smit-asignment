{
 "cells": [
  {
   "cell_type": "code",
   "execution_count": 74,
   "id": "9af784e9",
   "metadata": {},
   "outputs": [],
   "source": [
    "customers = [{\n",
    "    'id': 1,\n",
    "    'name': 'anus',\n",
    "    'lastName':'qasim',\n",
    "    'dateOfbirth':\"21,12,2004\"\n",
    "\n",
    "\n",
    "},{\n",
    "    'id': 2,\n",
    "    'name': 'anus',\n",
    "    'lastName':'qasim',\n",
    "    'dateOfbirth':\"21,12,2004\"\n",
    "},{\n",
    "    'id': 3,\n",
    "    'name': 'anus',\n",
    "    'lastName':'qasim',\n",
    "    'dateOfbirth':\"21,12,2004\"\n",
    "}\n",
    "]"
   ]
  },
  {
   "cell_type": "code",
   "execution_count": 75,
   "id": "7d5a511b",
   "metadata": {},
   "outputs": [
    {
     "data": {
      "text/plain": [
       "[{'id': 1, 'name': 'anus', 'lastName': 'qasim', 'dateOfbirth': '21,12,2004'},\n",
       " {'id': 2, 'name': 'anus', 'lastName': 'qasim', 'dateOfbirth': '21,12,2004'},\n",
       " {'id': 3, 'name': 'anus', 'lastName': 'qasim', 'dateOfbirth': '21,12,2004'}]"
      ]
     },
     "execution_count": 75,
     "metadata": {},
     "output_type": "execute_result"
    }
   ],
   "source": [
    "customers"
   ]
  },
  {
   "cell_type": "code",
   "execution_count": 87,
   "id": "9dc3d2de",
   "metadata": {},
   "outputs": [
    {
     "data": {
      "text/plain": [
       "['none', 'none', 'none']"
      ]
     },
     "execution_count": 87,
     "metadata": {},
     "output_type": "execute_result"
    }
   ],
   "source": [
    "[customer.setdefault('age','none')  for customer in customers]\n",
    "    # customer.setdefault(\"age\", 'none')\n",
    "    # print(customer)\n"
   ]
  },
  {
   "cell_type": "code",
   "execution_count": 85,
   "id": "70929319",
   "metadata": {},
   "outputs": [
    {
     "name": "stdout",
     "output_type": "stream",
     "text": [
      "{'id': 1, 'name': 'anus', 'lastName': 'qasim', 'dateOfbirth': '21,12,2004', 'age': 'none'}\n",
      "{'id': 2, 'name': 'anus', 'lastName': 'qasim', 'dateOfbirth': '21,12,2004', 'age': 'none'}\n",
      "{'id': 3, 'name': 'anus', 'lastName': 'qasim', 'dateOfbirth': '21,12,2004', 'age': 'none'}\n"
     ]
    }
   ],
   "source": [
    "for customer in customers:\n",
    "    customer.setdefault(\"age\", 'none')\n",
    "    print(customer)\n"
   ]
  },
  {
   "cell_type": "code",
   "execution_count": 84,
   "id": "3e43ea6c",
   "metadata": {},
   "outputs": [
    {
     "data": {
      "text/plain": [
       "['none', 'none', 'none']"
      ]
     },
     "execution_count": 84,
     "metadata": {},
     "output_type": "execute_result"
    }
   ],
   "source": [
    "customer"
   ]
  },
  {
   "cell_type": "code",
   "execution_count": 77,
   "id": "756dc010",
   "metadata": {},
   "outputs": [],
   "source": [
    "list_of_list = []\n",
    "for customer in customers:\n",
    "    list_of_list.append(list(customer.values()))"
   ]
  },
  {
   "cell_type": "code",
   "execution_count": 78,
   "id": "242f8b0c",
   "metadata": {},
   "outputs": [
    {
     "data": {
      "text/plain": [
       "[[1, 'anus', 'qasim', '21,12,2004', 'none'],\n",
       " [2, 'anus', 'qasim', '21,12,2004', 'none'],\n",
       " [3, 'anus', 'qasim', '21,12,2004', 'none']]"
      ]
     },
     "execution_count": 78,
     "metadata": {},
     "output_type": "execute_result"
    }
   ],
   "source": [
    "list_of_list "
   ]
  },
  {
   "cell_type": "code",
   "execution_count": null,
   "id": "c27a2108",
   "metadata": {},
   "outputs": [],
   "source": [
    "dict_of_disct = {}\n",
    "\n",
    "for customer in customers:\n",
    "    dict_of_disct[customer['id']] = customers\n",
    "    "
   ]
  },
  {
   "cell_type": "code",
   "execution_count": null,
   "id": "305dc14b",
   "metadata": {},
   "outputs": [],
   "source": []
  },
  {
   "cell_type": "code",
   "execution_count": 80,
   "id": "98e0c7d9",
   "metadata": {},
   "outputs": [
    {
     "data": {
      "text/plain": [
       "{1: [{'id': 1,\n",
       "   'name': 'anus',\n",
       "   'lastName': 'qasim',\n",
       "   'dateOfbirth': '21,12,2004',\n",
       "   'age': 'none'},\n",
       "  {'id': 2,\n",
       "   'name': 'anus',\n",
       "   'lastName': 'qasim',\n",
       "   'dateOfbirth': '21,12,2004',\n",
       "   'age': 'none'},\n",
       "  {'id': 3,\n",
       "   'name': 'anus',\n",
       "   'lastName': 'qasim',\n",
       "   'dateOfbirth': '21,12,2004',\n",
       "   'age': 'none'}],\n",
       " 2: [{'id': 1,\n",
       "   'name': 'anus',\n",
       "   'lastName': 'qasim',\n",
       "   'dateOfbirth': '21,12,2004',\n",
       "   'age': 'none'},\n",
       "  {'id': 2,\n",
       "   'name': 'anus',\n",
       "   'lastName': 'qasim',\n",
       "   'dateOfbirth': '21,12,2004',\n",
       "   'age': 'none'},\n",
       "  {'id': 3,\n",
       "   'name': 'anus',\n",
       "   'lastName': 'qasim',\n",
       "   'dateOfbirth': '21,12,2004',\n",
       "   'age': 'none'}],\n",
       " 3: [{'id': 1,\n",
       "   'name': 'anus',\n",
       "   'lastName': 'qasim',\n",
       "   'dateOfbirth': '21,12,2004',\n",
       "   'age': 'none'},\n",
       "  {'id': 2,\n",
       "   'name': 'anus',\n",
       "   'lastName': 'qasim',\n",
       "   'dateOfbirth': '21,12,2004',\n",
       "   'age': 'none'},\n",
       "  {'id': 3,\n",
       "   'name': 'anus',\n",
       "   'lastName': 'qasim',\n",
       "   'dateOfbirth': '21,12,2004',\n",
       "   'age': 'none'}]}"
      ]
     },
     "execution_count": 80,
     "metadata": {},
     "output_type": "execute_result"
    }
   ],
   "source": [
    "dict_of_disct "
   ]
  },
  {
   "cell_type": "code",
   "execution_count": 93,
   "id": "8fee7f4a",
   "metadata": {},
   "outputs": [
    {
     "data": {
      "text/plain": [
       "'hi anus you are in lahore'"
      ]
     },
     "execution_count": 93,
     "metadata": {},
     "output_type": "execute_result"
    }
   ],
   "source": [
    "def greet (name,place = 'karchi'):\n",
    "    return f'hi {name} you are in {place}'\n",
    "\n",
    "greet('anus','lahore')\n",
    "\n",
    "# keyword arrugment\n",
    "# position arrgument"
   ]
  },
  {
   "cell_type": "code",
   "execution_count": 28,
   "id": "018d6ed4",
   "metadata": {},
   "outputs": [],
   "source": [
    "def add_num(name,num):\n",
    "    print(name)\n",
    "    print(*num)\n"
   ]
  },
  {
   "cell_type": "code",
   "execution_count": 32,
   "id": "853d6f2f",
   "metadata": {},
   "outputs": [
    {
     "name": "stdout",
     "output_type": "stream",
     "text": [
      "anus\n",
      "2 3 4 5 6 7 8\n"
     ]
    }
   ],
   "source": [
    "def add_num(name, *num):\n",
    "\tprint(name)\n",
    "\tprint(*num)\n",
    "\n",
    "add_num('anus', 2, 3, 4, 5, 6, 7, 8)"
   ]
  },
  {
   "cell_type": "code",
   "execution_count": null,
   "id": "e5454711",
   "metadata": {},
   "outputs": [
    {
     "name": "stdout",
     "output_type": "stream",
     "text": [
      "1 result 1 essa\n",
      "2 result 3 essa\n",
      "3 result 6 essa\n",
      "4 result 10 essa\n",
      "5 result 15 essa\n",
      "6 result 21 essa\n"
     ]
    }
   ],
   "source": [
    "def cal_num(name, *nums):\n",
    "    result = 0\n",
    "    for num in nums:\n",
    "        result += num\n",
    "        print(f\"{num} result {result} {name}\")\n",
    "\n",
    "cal_num('essa',1,2,3,4,5,6)\n"
   ]
  },
  {
   "cell_type": "code",
   "execution_count": 60,
   "id": "1d79e5fe",
   "metadata": {},
   "outputs": [
    {
     "name": "stdout",
     "output_type": "stream",
     "text": [
      "anus,dict_values([1])\n"
     ]
    }
   ],
   "source": [
    "def add_num(name,**nums):\n",
    "    print(f\"{name},{nums.values()}\")\n",
    "\n",
    "add_num('anus',num1=1)\n"
   ]
  },
  {
   "cell_type": "code",
   "execution_count": null,
   "id": "e86b3d62",
   "metadata": {},
   "outputs": [],
   "source": [
    "fact = 1 \n",
    "n =int(input('enetr num'))\n",
    "\n",
    "while(n>0):\n",
    "    fact*=n\n",
    "    n-=1\n",
    "\n",
    "fact\n",
    "      "
   ]
  },
  {
   "cell_type": "code",
   "execution_count": null,
   "id": "53859de3-55f6-472d-bb28-77768041e00c",
   "metadata": {},
   "outputs": [],
   "source": [
    "userInp=input('enetr name')\n",
    "while (userInp != 'quit'):\n",
    "       print(userInp)\n",
    "       userInp=input(('enetr name'))\n",
    "\n"
   ]
  },
  {
   "cell_type": "code",
   "execution_count": null,
   "id": "000b7cb1-4d80-443a-a732-f299d2e841d3",
   "metadata": {},
   "outputs": [],
   "source": [
    "class human ():\n",
    "    def __init__(self,name,dateofbirth):\n",
    "        self.name = name\n",
    "        self.dateofbirth = dateofbirth\n",
    "    def eyecolor(self):\n",
    "        print(\"black\")\n",
    "    def haircolor(self):\n",
    "        print(\"black\")\n",
    "\n",
    "person = human()\n",
    "        "
   ]
  },
  {
   "cell_type": "code",
   "execution_count": null,
   "id": "2e080663-b252-423d-8852-5c86fa1dfbcd",
   "metadata": {},
   "outputs": [],
   "source": []
  }
 ],
 "metadata": {
  "kernelspec": {
   "display_name": "Python 3 (ipykernel)",
   "language": "python",
   "name": "python3"
  },
  "language_info": {
   "codemirror_mode": {
    "name": "ipython",
    "version": 3
   },
   "file_extension": ".py",
   "mimetype": "text/x-python",
   "name": "python",
   "nbconvert_exporter": "python",
   "pygments_lexer": "ipython3",
   "version": "3.13.5"
  }
 },
 "nbformat": 4,
 "nbformat_minor": 5
}
