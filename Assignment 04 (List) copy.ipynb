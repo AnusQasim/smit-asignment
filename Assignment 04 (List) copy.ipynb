{
 "cells": [
  {
   "cell_type": "markdown",
   "metadata": {},
   "source": [
    "1. Write a program that accepts a list from user and print the alternate element of list. "
   ]
  },
  {
   "cell_type": "code",
   "execution_count": 5,
   "metadata": {},
   "outputs": [
    {
     "name": "stdout",
     "output_type": "stream",
     "text": [
      "10\n",
      "30\n",
      "\n"
     ]
    }
   ],
   "source": [
    "user_list = input('enter a list')\n",
    "my_list = user_list.split(\",\")\n",
    "\n",
    "for i in range(0,len(my_list),2):\n",
    "    print(my_list[i])"
   ]
  },
  {
   "cell_type": "markdown",
   "metadata": {},
   "source": [
    "2. Write a program that accepts a list from user. Your program should reverse the content of list and\n",
    "display it. Do not use reverse() method."
   ]
  },
  {
   "cell_type": "code",
   "execution_count": 7,
   "metadata": {},
   "outputs": [
    {
     "name": "stdout",
     "output_type": "stream",
     "text": [
      "The list entered is: ['multan', 'hyderabad', 'lahore', 'karachi']\n"
     ]
    }
   ],
   "source": [
    "user_input_string = input(\"Enter elements separated by spaces: \")\n",
    "my_list = user_input_string.split()\n",
    "my_list = my_list[::-1]\n",
    "print(\"The list entered is:\", my_list)"
   ]
  },
  {
   "cell_type": "markdown",
   "metadata": {},
   "source": [
    "3. Find and display the largest number of a list without using built-in function max(). Your program\n",
    "should ask the user to input values in list from keyboa"
   ]
  },
  {
   "cell_type": "code",
   "execution_count": 14,
   "metadata": {},
   "outputs": [
    {
     "name": "stdout",
     "output_type": "stream",
     "text": [
      "30\n"
     ]
    }
   ],
   "source": [
    "num_list = input('enter a num list')\n",
    "new_list = list(map(int,num_list.split()))\n",
    "new_list.sort()\n",
    "largest_num = new_list[-1]\n",
    "print(largest_num)"
   ]
  },
  {
   "cell_type": "markdown",
   "metadata": {},
   "source": [
    " 4. Write a program that rotates the element of a list so that the element at the first index moves to the\n",
    "second index, the element in the second index moves to the third index, etc., and the element in the last\n",
    "index moves to the first index. \n"
   ]
  },
  {
   "cell_type": "code",
   "execution_count": 18,
   "metadata": {},
   "outputs": [
    {
     "name": "stdout",
     "output_type": "stream",
     "text": [
      "['50', '10', '20', '30', '40']\n"
     ]
    }
   ],
   "source": [
    "element_li = input('enetr a list')\n",
    "new_el = element_li.split()\n",
    "new = new_el[-1:] + new_el[:-1]\n",
    "print(new)"
   ]
  },
  {
   "cell_type": "markdown",
   "metadata": {},
   "source": [
    "5. Write a program that input a string and ask user to delete a given word from a string. \n"
   ]
  },
  {
   "cell_type": "code",
   "execution_count": 20,
   "metadata": {},
   "outputs": [
    {
     "name": "stdout",
     "output_type": "stream",
     "text": [
      "sentence : I like Hockey and Circket  delete_word : Hockey result : I like  and Circket \n"
     ]
    }
   ],
   "source": [
    "sentence = str(input('enter a sentense'))\n",
    "delete_word = str(input(\"enter a word\"))\n",
    "result = sentence.replace(delete_word,\"\")\n",
    "print(f'sentence : {sentence} delete_word : {delete_word} result : {result}')"
   ]
  },
  {
   "cell_type": "markdown",
   "metadata": {},
   "source": [
    " 6. Write a program that reads a string from the user containing a date in the form mm/dd/yyyy. It\n",
    "should print the date in the form March 12, 2021."
   ]
  },
  {
   "cell_type": "code",
   "execution_count": 25,
   "metadata": {},
   "outputs": [
    {
     "name": "stdout",
     "output_type": "stream",
     "text": [
      "December 12, 2012\n"
     ]
    }
   ],
   "source": [
    "months = [\"January\", \"February\", \"March\", \"April\", \"May\", \"June\",\n",
    "          \"July\", \"August\", \"September\", \"October\", \"November\", \"December\"]\n",
    "\n",
    "date_str = input(\"Enter a date (mm/dd/yyyy): \")\n",
    "month_num_str, day_str, year_str = date_str.split('/')\n",
    "\n",
    "month_num = int(month_num_str)\n",
    "day = int(day_str)\n",
    "year = int(year_str)\n",
    "\n",
    "# Check month validity\n",
    "if not (1 <= month_num <= 12):\n",
    "    print(\"Invalid month number.\")\n",
    "# Check day validity\n",
    "elif not (1 <= day <= 31):   # (basic check only)\n",
    "    print(\"Invalid day number.\")\n",
    "else:\n",
    "    # If both valid → print formatted date\n",
    "    month_name = months[month_num - 1]\n",
    "    print(f\"{month_name} {day}, {year}\")\n"
   ]
  },
  {
   "cell_type": "markdown",
   "metadata": {},
   "source": [
    " 7. Write a program with a function that accepts a string from keyboard and create a new string after\n",
    "converting character of each word capitalized. For instance, if the sentence is \"stop and smell the roses.\"\n",
    "the output should be \"Stop And Smell The Roses\" \n"
   ]
  },
  {
   "cell_type": "code",
   "execution_count": null,
   "metadata": {},
   "outputs": [
    {
     "name": "stdout",
     "output_type": "stream",
     "text": [
      "sen: hy my name is anus :: word: Hy My Name Is Anus\n"
     ]
    }
   ],
   "source": [
    "sen = input('enter a sentense')\n",
    "word = sen.title()\n",
    "print(f\"sen: {sen} :: word: {word}\")\n",
    "\n"
   ]
  },
  {
   "cell_type": "markdown",
   "metadata": {},
   "source": [
    "8. Find the sum of each row of matrix of size m x n. For example for the following matrix output will be\n",
    "like this : \n",
    "\n",
    "![Screenshot](Screenshot.png)\n",
    "\n"
   ]
  },
  {
   "cell_type": "code",
   "execution_count": null,
   "metadata": {},
   "outputs": [
    {
     "name": "stdout",
     "output_type": "stream",
     "text": [
      "sum::[32, 31, 63]\n"
     ]
    }
   ],
   "source": [
    "matrix = [\n",
    "    [2, 11, 7, 12],\n",
    "    [5, 2, 9, 15],\n",
    "    [8, 3, 10, 42]\n",
    "]\n",
    "\n",
    "row_sums = []\n",
    "\n",
    "for row in matrix:\n",
    "    row_sums.append(sum(row))\n",
    "\n",
    "print(f'sum::{row_sums}')\n",
    "\n"
   ]
  },
  {
   "cell_type": "markdown",
   "metadata": {},
   "source": [
    "9. Write a program to add two matrices of size n x m. \n"
   ]
  },
  {
   "cell_type": "code",
   "execution_count": 33,
   "metadata": {},
   "outputs": [
    {
     "name": "stdout",
     "output_type": "stream",
     "text": [
      "[4, 22, 14, 24]\n",
      "[10, 4, 18, 30]\n",
      "[16, 6, 20, 84]\n"
     ]
    }
   ],
   "source": [
    "matrixA = [\n",
    "    [2, 11, 7, 12],\n",
    "    [5, 2, 9, 15],\n",
    "    [8, 3, 10, 42]\n",
    "]\n",
    "\n",
    "matrixB = [\n",
    "    [2, 11, 7, 12],\n",
    "    [5, 2, 9, 15],\n",
    "    [8, 3, 10, 42]\n",
    "]\n",
    "rows = len(matrixA)\n",
    "cols = len(matrixA[0])\n",
    "result = []\n",
    "for i in range(rows):\n",
    "    new_row = []\n",
    "    for j in range(cols):\n",
    "        new_row.append(matrixA[i][j] + matrixB[i][j])\n",
    "    result.append(new_row)\n",
    "\n",
    "    print(new_row)\n"
   ]
  },
  {
   "cell_type": "markdown",
   "metadata": {},
   "source": [
    "10. Write a program to multiply two matrices "
   ]
  },
  {
   "cell_type": "code",
   "execution_count": 34,
   "metadata": {},
   "outputs": [
    {
     "name": "stdout",
     "output_type": "stream",
     "text": [
      "[4, 121, 49, 144]\n",
      "[25, 4, 81, 225]\n",
      "[64, 9, 100, 1764]\n"
     ]
    }
   ],
   "source": [
    "matrixA = [\n",
    "    [2, 11, 7, 12],\n",
    "    [5, 2, 9, 15],\n",
    "    [8, 3, 10, 42]\n",
    "]\n",
    "\n",
    "matrixB = [\n",
    "    [2, 11, 7, 12],\n",
    "    [5, 2, 9, 15],\n",
    "    [8, 3, 10, 42]\n",
    "]\n",
    "rows = len(matrixA)\n",
    "cols = len(matrixA[0])\n",
    "result = []\n",
    "for i in range(rows):\n",
    "    new_row = []\n",
    "    for j in range(cols):\n",
    "        new_row.append(matrixA[i][j] * matrixB[i][j])\n",
    "    result.append(new_row)\n",
    "\n",
    "    print(new_row)\n"
   ]
  }
 ],
 "metadata": {
  "kernelspec": {
   "display_name": "base",
   "language": "python",
   "name": "python3"
  },
  "language_info": {
   "codemirror_mode": {
    "name": "ipython",
    "version": 3
   },
   "file_extension": ".py",
   "mimetype": "text/x-python",
   "name": "python",
   "nbconvert_exporter": "python",
   "pygments_lexer": "ipython3",
   "version": "3.13.5"
  }
 },
 "nbformat": 4,
 "nbformat_minor": 2
}
