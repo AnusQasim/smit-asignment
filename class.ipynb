{
 "cells": [
  {
   "cell_type": "code",
   "execution_count": 74,
   "id": "9af784e9",
   "metadata": {},
   "outputs": [],
   "source": [
    "customers = [{\n",
    "    'id': 1,\n",
    "    'name': 'anus',\n",
    "    'lastName':'qasim',\n",
    "    'dateOfbirth':\"21,12,2004\"\n",
    "\n",
    "\n",
    "},{\n",
    "    'id': 2,\n",
    "    'name': 'anus',\n",
    "    'lastName':'qasim',\n",
    "    'dateOfbirth':\"21,12,2004\"\n",
    "},{\n",
    "    'id': 3,\n",
    "    'name': 'anus',\n",
    "    'lastName':'qasim',\n",
    "    'dateOfbirth':\"21,12,2004\"\n",
    "}\n",
    "]"
   ]
  },
  {
   "cell_type": "code",
   "execution_count": 75,
   "id": "7d5a511b",
   "metadata": {},
   "outputs": [
    {
     "data": {
      "text/plain": [
       "[{'id': 1, 'name': 'anus', 'lastName': 'qasim', 'dateOfbirth': '21,12,2004'},\n",
       " {'id': 2, 'name': 'anus', 'lastName': 'qasim', 'dateOfbirth': '21,12,2004'},\n",
       " {'id': 3, 'name': 'anus', 'lastName': 'qasim', 'dateOfbirth': '21,12,2004'}]"
      ]
     },
     "execution_count": 75,
     "metadata": {},
     "output_type": "execute_result"
    }
   ],
   "source": [
    "customers"
   ]
  },
  {
   "cell_type": "code",
   "execution_count": 87,
   "id": "9dc3d2de",
   "metadata": {},
   "outputs": [
    {
     "data": {
      "text/plain": [
       "['none', 'none', 'none']"
      ]
     },
     "execution_count": 87,
     "metadata": {},
     "output_type": "execute_result"
    }
   ],
   "source": [
    "[customer.setdefault('age','none')  for customer in customers]\n",
    "    # customer.setdefault(\"age\", 'none')\n",
    "    # print(customer)\n"
   ]
  },
  {
   "cell_type": "code",
   "execution_count": 85,
   "id": "70929319",
   "metadata": {},
   "outputs": [
    {
     "name": "stdout",
     "output_type": "stream",
     "text": [
      "{'id': 1, 'name': 'anus', 'lastName': 'qasim', 'dateOfbirth': '21,12,2004', 'age': 'none'}\n",
      "{'id': 2, 'name': 'anus', 'lastName': 'qasim', 'dateOfbirth': '21,12,2004', 'age': 'none'}\n",
      "{'id': 3, 'name': 'anus', 'lastName': 'qasim', 'dateOfbirth': '21,12,2004', 'age': 'none'}\n"
     ]
    }
   ],
   "source": [
    "for customer in customers:\n",
    "    customer.setdefault(\"age\", 'none')\n",
    "    print(customer)\n"
   ]
  },
  {
   "cell_type": "code",
   "execution_count": 84,
   "id": "3e43ea6c",
   "metadata": {},
   "outputs": [
    {
     "data": {
      "text/plain": [
       "['none', 'none', 'none']"
      ]
     },
     "execution_count": 84,
     "metadata": {},
     "output_type": "execute_result"
    }
   ],
   "source": [
    "customer"
   ]
  },
  {
   "cell_type": "code",
   "execution_count": 77,
   "id": "756dc010",
   "metadata": {},
   "outputs": [],
   "source": [
    "list_of_list = []\n",
    "for customer in customers:\n",
    "    list_of_list.append(list(customer.values()))"
   ]
  },
  {
   "cell_type": "code",
   "execution_count": 78,
   "id": "242f8b0c",
   "metadata": {},
   "outputs": [
    {
     "data": {
      "text/plain": [
       "[[1, 'anus', 'qasim', '21,12,2004', 'none'],\n",
       " [2, 'anus', 'qasim', '21,12,2004', 'none'],\n",
       " [3, 'anus', 'qasim', '21,12,2004', 'none']]"
      ]
     },
     "execution_count": 78,
     "metadata": {},
     "output_type": "execute_result"
    }
   ],
   "source": [
    "list_of_list "
   ]
  },
  {
   "cell_type": "code",
   "execution_count": 79,
   "id": "c27a2108",
   "metadata": {},
   "outputs": [],
   "source": [
    "dict_of_disct = {}\n",
    "\n",
    "for customer in customers:\n",
    "    dict_of_disct[customer['id']] = customers\n",
    "    \n"
   ]
  },
  {
   "cell_type": "code",
   "execution_count": null,
   "id": "305dc14b",
   "metadata": {},
   "outputs": [],
   "source": []
  },
  {
   "cell_type": "code",
   "execution_count": 80,
   "id": "98e0c7d9",
   "metadata": {},
   "outputs": [
    {
     "data": {
      "text/plain": [
       "{1: [{'id': 1,\n",
       "   'name': 'anus',\n",
       "   'lastName': 'qasim',\n",
       "   'dateOfbirth': '21,12,2004',\n",
       "   'age': 'none'},\n",
       "  {'id': 2,\n",
       "   'name': 'anus',\n",
       "   'lastName': 'qasim',\n",
       "   'dateOfbirth': '21,12,2004',\n",
       "   'age': 'none'},\n",
       "  {'id': 3,\n",
       "   'name': 'anus',\n",
       "   'lastName': 'qasim',\n",
       "   'dateOfbirth': '21,12,2004',\n",
       "   'age': 'none'}],\n",
       " 2: [{'id': 1,\n",
       "   'name': 'anus',\n",
       "   'lastName': 'qasim',\n",
       "   'dateOfbirth': '21,12,2004',\n",
       "   'age': 'none'},\n",
       "  {'id': 2,\n",
       "   'name': 'anus',\n",
       "   'lastName': 'qasim',\n",
       "   'dateOfbirth': '21,12,2004',\n",
       "   'age': 'none'},\n",
       "  {'id': 3,\n",
       "   'name': 'anus',\n",
       "   'lastName': 'qasim',\n",
       "   'dateOfbirth': '21,12,2004',\n",
       "   'age': 'none'}],\n",
       " 3: [{'id': 1,\n",
       "   'name': 'anus',\n",
       "   'lastName': 'qasim',\n",
       "   'dateOfbirth': '21,12,2004',\n",
       "   'age': 'none'},\n",
       "  {'id': 2,\n",
       "   'name': 'anus',\n",
       "   'lastName': 'qasim',\n",
       "   'dateOfbirth': '21,12,2004',\n",
       "   'age': 'none'},\n",
       "  {'id': 3,\n",
       "   'name': 'anus',\n",
       "   'lastName': 'qasim',\n",
       "   'dateOfbirth': '21,12,2004',\n",
       "   'age': 'none'}]}"
      ]
     },
     "execution_count": 80,
     "metadata": {},
     "output_type": "execute_result"
    }
   ],
   "source": [
    "dict_of_disct "
   ]
  },
  {
   "cell_type": "code",
   "execution_count": 93,
   "id": "8fee7f4a",
   "metadata": {},
   "outputs": [
    {
     "data": {
      "text/plain": [
       "'hi anus you are in lahore'"
      ]
     },
     "execution_count": 93,
     "metadata": {},
     "output_type": "execute_result"
    }
   ],
   "source": [
    "def greet (name,place = 'karchi'):\n",
    "    return f'hi {name} you are in {place}'\n",
    "\n",
    "greet('anus','lahore')\n",
    "\n",
    "# keyword arrugment\n",
    "# position arrgument"
   ]
  },
  {
   "cell_type": "code",
   "execution_count": 28,
   "id": "018d6ed4",
   "metadata": {},
   "outputs": [],
   "source": [
    "def add_num(name,num):\n",
    "    print(name)\n",
    "    print(*num)\n"
   ]
  },
  {
   "cell_type": "code",
   "execution_count": 32,
   "id": "853d6f2f",
   "metadata": {},
   "outputs": [
    {
     "name": "stdout",
     "output_type": "stream",
     "text": [
      "anus\n",
      "2 3 4 5 6 7 8\n"
     ]
    }
   ],
   "source": [
    "def add_num(name, *num):\n",
    "\tprint(name)\n",
    "\tprint(*num)\n",
    "\n",
    "add_num('anus', 2, 3, 4, 5, 6, 7, 8)"
   ]
  },
  {
   "cell_type": "code",
   "execution_count": null,
   "id": "e5454711",
   "metadata": {},
   "outputs": [
    {
     "name": "stdout",
     "output_type": "stream",
     "text": [
      "1 result 1 essa\n",
      "2 result 3 essa\n",
      "3 result 6 essa\n",
      "4 result 10 essa\n",
      "5 result 15 essa\n",
      "6 result 21 essa\n"
     ]
    }
   ],
   "source": [
    "def cal_num(name, *nums):\n",
    "    result = 0\n",
    "    for num in nums:\n",
    "        result += num\n",
    "        print(f\"{num} result {result} {name}\")\n",
    "\n",
    "cal_num('essa',1,2,3,4,5,6)\n"
   ]
  },
  {
   "cell_type": "code",
   "execution_count": null,
   "id": "1d79e5fe",
   "metadata": {},
   "outputs": [
    {
     "name": "stdout",
     "output_type": "stream",
     "text": [
      "anus,dict_values([1])\n"
     ]
    }
   ],
   "source": [
    "def add_num(name,**nums):\n",
    "    print(f\"{name},{nums.values()}\")\n",
    "\n",
    "add_num('anus',num1=1)\n"
   ]
  },
  {
   "cell_type": "code",
   "execution_count": 75,
   "id": "0ebf9da0",
   "metadata": {},
   "outputs": [
    {
     "data": {
      "text/plain": [
       "1"
      ]
     },
     "execution_count": 75,
     "metadata": {},
     "output_type": "execute_result"
    }
   ],
   "source": [
    "fact = 1 \n",
    "n =int(input('enetr num'))\n",
    "\n",
    "while(n<0):\n",
    "    fact*=n\n",
    "    n-=1\n",
    "\n",
    "fact\n",
    "      "
   ]
  },
  {
   "cell_type": "code",
   "execution_count": null,
   "id": "0cbbba07",
   "metadata": {},
   "outputs": [
    {
     "name": "stdout",
     "output_type": "stream",
     "text": [
      "anus\n",
      "anus\n"
     ]
    }
   ],
   "source": [
    "userInp=input('enetr name')\n",
    "while (userInp != 'quit'):\n",
    "       print(userInp)\n",
    "       userInp=input(('enetr name'))\n",
    "\n"
   ]
  },
  {
   "cell_type": "code",
   "execution_count": 97,
   "id": "b4c40e08",
   "metadata": {},
   "outputs": [],
   "source": [
    "class human ():\n",
    "    def __init__(self,name,dateofbirth):\n",
    "        self.name = name\n",
    "        self.dateofbirth = dateofbirth\n",
    "    def eyecolor(self):\n",
    "        print(\"black\")\n",
    "    def haircolor(self):\n",
    "        print(\"black\")\n",
    "\n",
    "person = human('anus',21)\n",
    "        "
   ]
  },
  {
   "cell_type": "code",
   "execution_count": 2,
   "id": "9593b704",
   "metadata": {},
   "outputs": [],
   "source": [
    "# class bank():\n",
    "#     def __init__(self,owner:str,balance:float,d):\n",
    "#         self.owner = owner\n",
    "#         self.balance = balance\n",
    "#     def deposit(self):\n",
    "#         \"\"\"is this deposit document\"\"\"\n",
    "#         print(\"deposit cash\")\n",
    "#     def withdrawl (self):\n",
    "#         print('with draw cast')\n",
    "\n",
    "# person = bank('anus',2000)\n",
    "\n",
    "# person.balance        "
   ]
  },
  {
   "cell_type": "markdown",
   "id": "c0ecd3a9",
   "metadata": {},
   "source": [
    "lamda function \n",
    "with out name\n",
    "never been called befor or after \n",
    "no return keywords\n",
    "aisa fun ji s ka koie name nh ha or na he call ha "
   ]
  },
  {
   "cell_type": "code",
   "execution_count": 4,
   "id": "0069ea82",
   "metadata": {},
   "outputs": [
    {
     "data": {
      "text/plain": [
       "17"
      ]
     },
     "execution_count": 4,
     "metadata": {},
     "output_type": "execute_result"
    }
   ],
   "source": [
    "(lambda x,y:x+y)(8,9)"
   ]
  },
  {
   "cell_type": "code",
   "execution_count": 6,
   "id": "8e0d5053",
   "metadata": {},
   "outputs": [
    {
     "data": {
      "text/plain": [
       "10"
      ]
     },
     "execution_count": 6,
     "metadata": {},
     "output_type": "execute_result"
    }
   ],
   "source": [
    "def f(n):\n",
    "    if n ==1:\n",
    "        return 1\n",
    "    s=n+f(n-1)\n",
    "    return s\n",
    "f(4)\n",
    "    "
   ]
  },
  {
   "cell_type": "code",
   "execution_count": 8,
   "id": "ad6b7396",
   "metadata": {},
   "outputs": [
    {
     "data": {
      "text/plain": [
       "24"
      ]
     },
     "execution_count": 8,
     "metadata": {},
     "output_type": "execute_result"
    }
   ],
   "source": [
    "f = lambda n:1 if n==1 else n*f(n-1)\n",
    "f(4)"
   ]
  },
  {
   "cell_type": "markdown",
   "id": "9fe6dfbf",
   "metadata": {},
   "source": [
    "map(function,iterable)"
   ]
  },
  {
   "cell_type": "code",
   "execution_count": null,
   "id": "8c050cbc",
   "metadata": {},
   "outputs": [],
   "source": [
    "filter"
   ]
  },
  {
   "cell_type": "code",
   "execution_count": null,
   "id": "07b22349",
   "metadata": {},
   "outputs": [],
   "source": []
  },
  {
   "cell_type": "code",
   "execution_count": 11,
   "id": "e9fd0eb6",
   "metadata": {},
   "outputs": [
    {
     "data": {
      "text/plain": [
       "[1, 4, 9, 16, 25, 36, 49, 64, 81, 100, 121, 144, 169, 196]"
      ]
     },
     "execution_count": 11,
     "metadata": {},
     "output_type": "execute_result"
    }
   ],
   "source": [
    "list(map(lambda x : x**2,range(1,15)))"
   ]
  },
  {
   "cell_type": "code",
   "execution_count": 54,
   "id": "197bf67b",
   "metadata": {},
   "outputs": [],
   "source": [
    "class saylani():\n",
    "    helpline = '032020202'\n",
    "\n",
    "    obj_count = 0\n",
    "\n",
    "\n",
    "    def __init__(self,campus,staff,courses_count):\n",
    "        self.campus = campus\n",
    "        self.staff = staff\n",
    "        self.courses_count = courses_count\n",
    "        saylani.helpline\n",
    "        saylani.obj_count +=1\n",
    "\n",
    "    # @staticmethod\n",
    "    def duration(self,courses):\n",
    "        print()\n",
    "        print(f\"courses {', '.join(courses)}\")\n",
    "        # print(type(courses))\n",
    "    @staticmethod\n",
    "    def facilities():\n",
    "        print(\"medical\")\n",
    "\n",
    "\n",
    "sm = saylani('za',10,15)\n",
    "# sm.duration(['AI','WEB',\"PY\"])\n",
    "\n",
    "# sm = saylani.obj_count\n",
    "# print(sm)"
   ]
  },
  {
   "cell_type": "code",
   "execution_count": 33,
   "id": "9e5816d2",
   "metadata": {},
   "outputs": [
    {
     "data": {
      "text/plain": [
       "'032020202'"
      ]
     },
     "execution_count": 33,
     "metadata": {},
     "output_type": "execute_result"
    }
   ],
   "source": [
    "saylani.helpline"
   ]
  },
  {
   "cell_type": "code",
   "execution_count": null,
   "id": "ba9bcabc",
   "metadata": {},
   "outputs": [],
   "source": [
    "class cars():\n",
    "    licensed = 'yes'\n",
    "    \n",
    "    def __init__(self,model,color):\n",
    "        self.model = model\n",
    "        self.color = color\n",
    "        # cars.licensed\n",
    "    \n",
    "    def name(self,car_name,price):\n",
    "        print(f'{car_name}and {price}')\n",
    "        print(cars.licensed)\n",
    "\n",
    "\n",
    "# cicvic = cars(2020,'blue')\n",
    "# print(cicvic)\n",
    "    \n",
    "    @staticmethod\n",
    "    def new_car():\n",
    "        print(\"yess\")"
   ]
  },
  {
   "cell_type": "code",
   "execution_count": 69,
   "id": "c3154560",
   "metadata": {},
   "outputs": [
    {
     "name": "stdout",
     "output_type": "stream",
     "text": [
      "yess\n",
      "audiand 2000\n",
      "yes\n"
     ]
    }
   ],
   "source": [
    "cicvic = cars(2020,'blue')\n",
    "cars.licensed\n",
    "cars.new_car()\n",
    "cicvic.name('audi', 2000)\n"
   ]
  },
  {
   "cell_type": "markdown",
   "id": "fbaed395",
   "metadata": {},
   "source": []
  },
  {
   "cell_type": "code",
   "execution_count": 57,
   "id": "da582a2e",
   "metadata": {},
   "outputs": [
    {
     "name": "stdout",
     "output_type": "stream",
     "text": [
      "<__main__.cars object at 0x0000022CD5B05FD0>\n"
     ]
    }
   ],
   "source": [
    "print(cicvic)"
   ]
  },
  {
   "cell_type": "markdown",
   "id": "f5be3531",
   "metadata": {},
   "source": []
  },
  {
   "cell_type": "markdown",
   "id": "50f92279",
   "metadata": {},
   "source": [
    "everthing belon to some specific class\n",
    "every class can have its object\n",
    "every class have its own method \n",
    "\n",
    "class hamesha class kay keyword say banighi\n",
    "\n",
    "every class 2 things\n",
    "\n",
    "1 charactertic --> propertics ya attributes  \n",
    "2 behaviorus/action  methods kia kia kam karsakthi ha\n",
    "\n",
    " characteritics eg: color model make_year\n",
    "\n",
    " behavior eg: start end \n",
    "\n",
    "\n",
    " \n",
    "\n",
    "\n",
    "class cars ():\n",
    "    def __init__(self, color,model,make_year): constructer\n",
    "       self.color = color\n",
    "       self.model = model\n",
    "       self.make_year = make_year \n",
    "    def start(self): methods\n",
    "          \"\"\" documention \"\"\"\n",
    "      print(car can start )\n",
    "      def stop(self): methods\n",
    "      print(car can stop ) \n",
    "         \n",
    "\n",
    "civics = cars('black','honda', 2025)\n",
    "\n",
    "civic.color\n",
    "\n",
    "\n",
    "lamda function \n",
    "with out name\n",
    "never been called befor or after \n",
    "no return keywords\n",
    "aisa fun ji s ka koie name nh ha or na he call ha \n",
    "\n",
    "\n",
    "\n",
    "\n",
    "\n",
    "\n",
    "\n",
    "\n"
   ]
  }
 ],
 "metadata": {
  "kernelspec": {
   "display_name": "base",
   "language": "python",
   "name": "python3"
  },
  "language_info": {
   "codemirror_mode": {
    "name": "ipython",
    "version": 3
   },
   "file_extension": ".py",
   "mimetype": "text/x-python",
   "name": "python",
   "nbconvert_exporter": "python",
   "pygments_lexer": "ipython3",
   "version": "3.13.5"
  }
 },
 "nbformat": 4,
 "nbformat_minor": 5
}
