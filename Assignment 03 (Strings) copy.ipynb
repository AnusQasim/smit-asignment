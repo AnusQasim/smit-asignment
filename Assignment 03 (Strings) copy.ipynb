{
 "cells": [
  {
   "cell_type": "markdown",
   "metadata": {},
   "source": [
    "1. Write a program that accepts a string from user. Your program should count and display number of\n",
    "vowels in that string. \n"
   ]
  },
  {
   "cell_type": "code",
   "execution_count": 2,
   "metadata": {},
   "outputs": [
    {
     "name": "stdout",
     "output_type": "stream",
     "text": [
      "numbers of vovels in the string: 2\n"
     ]
    }
   ],
   "source": [
    "text = input('enter a text')\n",
    "alphabet = \"AEIOUaeiou\"\n",
    "\n",
    "count = sum(text.count(a) for a in alphabet)\n",
    "print(\"numbers of vovels in the string:\",count)"
   ]
  },
  {
   "cell_type": "code",
   "execution_count": 21,
   "metadata": {},
   "outputs": [
    {
     "name": "stdout",
     "output_type": "stream",
     "text": [
      "number of vovels2 anas\n"
     ]
    }
   ],
   "source": [
    "text = input('enter a text ')\n",
    "w = text.lower()\n",
    "\n",
    "count =(\n",
    "    w.count('a')\n",
    "    +w.count('e')\n",
    "    +w.count('i')\n",
    "    +w.count('o')\n",
    "    +w.count('u')\n",
    "\n",
    ")\n",
    "print(f\"number of vovels{count} {text}\")"
   ]
  },
  {
   "cell_type": "markdown",
   "metadata": {},
   "source": [
    " 2. Write a program that reads a string from keyboard and display:\n",
    "* The number of uppercase letters in the string\n",
    "* The number of lowercase letters in the string\n",
    "* The number of digits in the string\n",
    "* The number of whitespace characters in the string \n"
   ]
  },
  {
   "cell_type": "code",
   "execution_count": null,
   "metadata": {},
   "outputs": [
    {
     "name": "stdout",
     "output_type": "stream",
     "text": [
      "Number of uppercase letters: 0\n",
      "Number of lowercase letters: 1\n",
      "Number of digits: 0\n",
      "Number of whitespace characters: 0\n",
      "Number of uppercase letters: 0\n",
      "Number of lowercase letters: 2\n",
      "Number of digits: 0\n",
      "Number of whitespace characters: 0\n",
      "Number of uppercase letters: 0\n",
      "Number of lowercase letters: 3\n",
      "Number of digits: 0\n",
      "Number of whitespace characters: 0\n",
      "Number of uppercase letters: 0\n",
      "Number of lowercase letters: 4\n",
      "Number of digits: 0\n",
      "Number of whitespace characters: 0\n",
      "Number of uppercase letters: 0\n",
      "Number of lowercase letters: 5\n",
      "Number of digits: 0\n",
      "Number of whitespace characters: 0\n",
      "Number of uppercase letters: 0\n",
      "Number of lowercase letters: 5\n",
      "Number of digits: 1\n",
      "Number of whitespace characters: 0\n",
      "Number of uppercase letters: 0\n",
      "Number of lowercase letters: 5\n",
      "Number of digits: 2\n",
      "Number of whitespace characters: 0\n",
      "Number of uppercase letters: 0\n",
      "Number of lowercase letters: 5\n",
      "Number of digits: 3\n",
      "Number of whitespace characters: 0\n",
      "Number of uppercase letters: 0\n",
      "Number of lowercase letters: 5\n",
      "Number of digits: 3\n",
      "Number of whitespace characters: 1\n",
      "Number of uppercase letters: 1\n",
      "Number of lowercase letters: 5\n",
      "Number of digits: 3\n",
      "Number of whitespace characters: 1\n",
      "Number of uppercase letters: 2\n",
      "Number of lowercase letters: 5\n",
      "Number of digits: 3\n",
      "Number of whitespace characters: 1\n",
      "Number of uppercase letters: 3\n",
      "Number of lowercase letters: 5\n",
      "Number of digits: 3\n",
      "Number of whitespace characters: 1\n",
      "Number of uppercase letters: 4\n",
      "Number of lowercase letters: 5\n",
      "Number of digits: 3\n",
      "Number of whitespace characters: 1\n",
      "Number of uppercase letters: 4\n",
      "Number of lowercase letters: 5\n",
      "Number of digits: 3\n",
      "Number of whitespace characters: 2\n",
      "Number of uppercase letters: 4\n",
      "Number of lowercase letters: 5\n",
      "Number of digits: 3\n",
      "Number of whitespace characters: 3\n",
      "Number of uppercase letters: 4\n",
      "Number of lowercase letters: 5\n",
      "Number of digits: 3\n",
      "Number of whitespace characters: 4\n",
      "Number of uppercase letters: 4\n",
      "Number of lowercase letters: 6\n",
      "Number of digits: 3\n",
      "Number of whitespace characters: 4\n",
      "Number of uppercase letters: 4\n",
      "Number of lowercase letters: 7\n",
      "Number of digits: 3\n",
      "Number of whitespace characters: 4\n",
      "Number of uppercase letters: 4\n",
      "Number of lowercase letters: 8\n",
      "Number of digits: 3\n",
      "Number of whitespace characters: 4\n",
      "Number of uppercase letters: 4\n",
      "Number of lowercase letters: 9\n",
      "Number of digits: 3\n",
      "Number of whitespace characters: 4\n",
      "Number of uppercase letters: 4\n",
      "Number of lowercase letters: 9\n",
      "Number of digits: 3\n",
      "Number of whitespace characters: 5\n",
      "Number of uppercase letters: 4\n",
      "Number of lowercase letters: 10\n",
      "Number of digits: 3\n",
      "Number of whitespace characters: 5\n",
      "Number of uppercase letters: 4\n",
      "Number of lowercase letters: 10\n",
      "Number of digits: 3\n",
      "Number of whitespace characters: 6\n"
     ]
    }
   ],
   "source": [
    "text = input('enter a text')\n",
    "\n",
    "uppercase_count = 0\n",
    "lowercase_count =0\n",
    "digit_count = 0\n",
    "whitespace_count = 0\n",
    "\n",
    "for char in text:\n",
    "    if char.isupper():\n",
    "        uppercase_count +=1\n",
    "    elif char.islower():\n",
    "        lowercase_count +=1\n",
    "    elif char.isdigit():\n",
    "        digit_count +=1 \n",
    "    elif char.isspace():\n",
    "        whitespace_count +=1\n",
    "\n",
    "    print(f\"Number of uppercase letters: {uppercase_count}\")\n",
    "    print(f\"Number of lowercase letters: {lowercase_count}\")\n",
    "    print(f\"Number of digits: {digit_count}\")\n",
    "    print(f\"Number of whitespace characters: {whitespace_count}\")\n",
    "\n",
    "\n",
    "        \n",
    "\n",
    "\n",
    "\n",
    "\n",
    "\n",
    "\n"
   ]
  },
  {
   "cell_type": "markdown",
   "metadata": {},
   "source": [
    "3 Write a Python program that accepts a string from user. Your program should create and display a\n",
    "new string where the first and last characters have been exchanged. \n"
   ]
  },
  {
   "cell_type": "code",
   "execution_count": 15,
   "metadata": {},
   "outputs": [
    {
     "name": "stdout",
     "output_type": "stream",
     "text": [
      "new string snua\n"
     ]
    }
   ],
   "source": [
    "text = input('enter a text')\n",
    "\n",
    "if len(text) > 1:\n",
    "    new_text = text[-1] + text[1:-1] + text[0]\n",
    "else:\n",
    "    new_text = text\n",
    "print(\"new string\", new_text)"
   ]
  },
  {
   "cell_type": "markdown",
   "metadata": {},
   "source": [
    "4. Write a Python program that accepts a string from user. Your program should create a new string in\n",
    "reverse of first string and display it.\n",
    "For example if the user enters the string 'EXAM' then new string would be 'MAXE' \n"
   ]
  },
  {
   "cell_type": "code",
   "execution_count": 29,
   "metadata": {},
   "outputs": [
    {
     "name": "stdout",
     "output_type": "stream",
     "text": [
      "maxe\n"
     ]
    }
   ],
   "source": [
    "text = input('enter a text')\n",
    "new_text = list(text)\n",
    "new_text.reverse()\n",
    "result = \"\".join(new_text)\n",
    "print(result)"
   ]
  },
  {
   "cell_type": "code",
   "execution_count": 28,
   "metadata": {},
   "outputs": [
    {
     "name": "stdout",
     "output_type": "stream",
     "text": [
      "maxe\n"
     ]
    }
   ],
   "source": [
    "text = input('enter a text')\n",
    "new = text[::-1]\n",
    "print(new)"
   ]
  },
  {
   "cell_type": "markdown",
   "metadata": {},
   "source": [
    " 5. Write a Python program that accepts a string from user. Your program should create a new string by\n",
    "shifting one position to left.\n",
    "For example if the user enters the string 'examination 2021' then new string would be 'xamination\n",
    "2021e' \n"
   ]
  },
  {
   "cell_type": "code",
   "execution_count": null,
   "metadata": {},
   "outputs": [
    {
     "name": "stdout",
     "output_type": "stream",
     "text": [
      "xamination2021e\n"
     ]
    }
   ],
   "source": [
    "text = input('enter a text')\n",
    "new_text = text[1:] + text[0]\n",
    "print(new_text)"
   ]
  },
  {
   "cell_type": "markdown",
   "metadata": {},
   "source": [
    "6. Write a program that asks the user to input his name and print its initials. Assuming that the user\n",
    "always types first name, middle name and last name and does not include any unnecessary spaces.\n",
    "For example, if the user enters Ajay Kumar Garg the program should display A. K. G.\n",
    "Note:Don't use split() method "
   ]
  },
  {
   "cell_type": "code",
   "execution_count": 47,
   "metadata": {},
   "outputs": [
    {
     "name": "stdout",
     "output_type": "stream",
     "text": [
      "AKB\n"
     ]
    }
   ],
   "source": [
    "first_name = input(\"enter name\")\n",
    "middle_name = input(\"enter a middle name\")\n",
    "last_name = input('enter a last name')\n",
    "\n",
    "result = first_name[0] + middle_name[0] + last_name[0]\n",
    "print(result.upper())"
   ]
  },
  {
   "cell_type": "markdown",
   "metadata": {},
   "source": [
    "7. A palindrome is a string that reads the same backward as forward. For example, the words dad,\n",
    "madam and radar are all palindromes. Write a programs that determines whether the string is a\n",
    "palindrome.\n",
    "Note: do not use reverse() method \n"
   ]
  },
  {
   "cell_type": "code",
   "execution_count": null,
   "metadata": {},
   "outputs": [
    {
     "name": "stdout",
     "output_type": "stream",
     "text": [
      "hello: olleh  not palindrome\n"
     ]
    }
   ],
   "source": [
    "text = input('enter a text')\n",
    "\n",
    "new_text = text[::-1]\n",
    "\n",
    "if text == new_text:\n",
    "    print(f\"{text}: {new_text} palindrome\")\n",
    "else:\n",
    "    print(f\"{text}: {new_text}  not palindrome\")\n",
    "\n"
   ]
  },
  {
   "cell_type": "markdown",
   "metadata": {},
   "source": [
    "8. Write a program that display following output:\n",
    "\n",
    "SHIFT\n",
    "HIFTS\n",
    "IFTSH\n",
    "FTSHI\n",
    "TSHIF\n",
    "SHIFT \n"
   ]
  },
  {
   "cell_type": "code",
   "execution_count": null,
   "metadata": {},
   "outputs": [
    {
     "name": "stdout",
     "output_type": "stream",
     "text": [
      "SHIFT\n",
      "HIFTS\n",
      "IFTSH\n",
      "FTSHI\n",
      "TSHIF\n",
      "HIFTS\n"
     ]
    }
   ],
   "source": [
    "text = input('enter a text')\n",
    "print(text)\n",
    "print(text[1:]+text[0])\n",
    "print(text[2:]+text[:2])\n",
    "print(text[3:]+text[:3])\n",
    "print(text[4:]+text[:4])\n",
    "print(text[1:]+text[0])\n",
    "\n",
    "\n"
   ]
  },
  {
   "cell_type": "markdown",
   "metadata": {},
   "source": [
    " 9. Write a program in python that accepts a string to setup a passwords. Your entered password must\n",
    "meet the following requirements: \n",
    "\n",
    "    1. The password must be at least eight characters long.\n",
    "    2. It must contain at least one uppercase letter.\n",
    "    3. It must contain at least one lowercase letter.\n",
    "    4. It must contain at least one numeric digit.\n",
    "    5. Your program should should perform this validation. "
   ]
  },
  {
   "cell_type": "code",
   "execution_count": 63,
   "metadata": {},
   "outputs": [
    {
     "name": "stdout",
     "output_type": "stream",
     "text": [
      "Password is valid ✅\n"
     ]
    }
   ],
   "source": [
    "password = input('enter a password')\n",
    "\n",
    "if len(password) < 8:\n",
    "    print(\"Password must be at least 8 characters long.\")\n",
    "elif password.upper() == password:\n",
    "    print(\"Password must contain at least one lowercase letter.\")\n",
    "elif password.lower() == password:\n",
    "    print(\"Password must contain at least one uppercase letter.\")\n",
    "elif not any(map(str.isdigit, password)):\n",
    "    print(\"Password must contain at least one digit.\")\n",
    "else:\n",
    "    print(\"Password is valid ✅\")\n"
   ]
  }
 ],
 "metadata": {
  "kernelspec": {
   "display_name": "base",
   "language": "python",
   "name": "python3"
  },
  "language_info": {
   "codemirror_mode": {
    "name": "ipython",
    "version": 3
   },
   "file_extension": ".py",
   "mimetype": "text/x-python",
   "name": "python",
   "nbconvert_exporter": "python",
   "pygments_lexer": "ipython3",
   "version": "3.13.5"
  }
 },
 "nbformat": 4,
 "nbformat_minor": 2
}
